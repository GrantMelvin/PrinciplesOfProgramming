{
 "cells": [
  {
   "cell_type": "code",
   "execution_count": 15,
   "id": "6f188a11-1703-4a96-ac84-e0689503dc34",
   "metadata": {},
   "outputs": [],
   "source": [
    "def palindromeRecursive(lst):\n",
    "    if len(lst) < 2: return True\n",
    "    if lst[0] != lst[-1]: return False\n",
    "    return palindromeRecursive(lst[1:-1])"
   ]
  },
  {
   "cell_type": "code",
   "execution_count": 16,
   "id": "f5af0f80-f3dd-49a4-bcc1-82ff02d8858f",
   "metadata": {},
   "outputs": [
    {
     "data": {
      "text/plain": [
       "True"
      ]
     },
     "execution_count": 16,
     "metadata": {},
     "output_type": "execute_result"
    }
   ],
   "source": [
    "palindromeRecursive(['r','a','c','e','c','a','r'])"
   ]
  },
  {
   "cell_type": "code",
   "execution_count": null,
   "id": "da8072e3-2eb4-42f8-a722-42be9e6c0528",
   "metadata": {},
   "outputs": [],
   "source": []
  },
  {
   "cell_type": "code",
   "execution_count": null,
   "id": "c5de4d69-3459-46ee-8bfd-fed70150daa3",
   "metadata": {},
   "outputs": [],
   "source": []
  }
 ],
 "metadata": {
  "kernelspec": {
   "display_name": "Python 3 (ipykernel)",
   "language": "python",
   "name": "python3"
  },
  "language_info": {
   "codemirror_mode": {
    "name": "ipython",
    "version": 3
   },
   "file_extension": ".py",
   "mimetype": "text/x-python",
   "name": "python",
   "nbconvert_exporter": "python",
   "pygments_lexer": "ipython3",
   "version": "3.9.2"
  }
 },
 "nbformat": 4,
 "nbformat_minor": 5
}
