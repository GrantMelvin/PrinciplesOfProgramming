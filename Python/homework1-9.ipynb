{
 "cells": [
  {
   "cell_type": "code",
   "execution_count": 1,
   "id": "8500fb01-d489-4e0c-967c-2afea1d3bf44",
   "metadata": {},
   "outputs": [],
   "source": [
    "def palindromeRecursive(lst):\n",
    "    if len(lst) < 2: return True\n",
    "    if lst[0] != lst[-1]: return False\n",
    "    return palindromeRecursive(lst[1:-1])"
   ]
  },
  {
   "cell_type": "code",
   "execution_count": 3,
   "id": "64f95d8b-b2ca-4231-b8ac-6a87326339d3",
   "metadata": {},
   "outputs": [
    {
     "data": {
      "text/plain": [
       "True"
      ]
     },
     "execution_count": 3,
     "metadata": {},
     "output_type": "execute_result"
    }
   ],
   "source": [
    "palindromeRecursive([1,2,1])"
   ]
  },
  {
   "cell_type": "code",
   "execution_count": null,
   "id": "e548e477",
   "metadata": {},
   "outputs": [],
   "source": []
  }
 ],
 "metadata": {
  "kernelspec": {
   "display_name": "Python 3 (ipykernel)",
   "language": "python",
   "name": "python3"
  },
  "language_info": {
   "codemirror_mode": {
    "name": "ipython",
    "version": 3
   },
   "file_extension": ".py",
   "mimetype": "text/x-python",
   "name": "python",
   "nbconvert_exporter": "python",
   "pygments_lexer": "ipython3",
   "version": "3.10.11"
  }
 },
 "nbformat": 4,
 "nbformat_minor": 5
}
