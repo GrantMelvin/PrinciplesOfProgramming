{
 "cells": [
  {
   "cell_type": "code",
   "execution_count": 72,
   "id": "2d793ff2-0fda-4df1-903b-b2452e3b1397",
   "metadata": {},
   "outputs": [],
   "source": [
    "def palindromeImperative(lst):\n",
    "    return lst[::-1] == lst"
   ]
  },
  {
   "cell_type": "code",
   "execution_count": 78,
   "id": "438f5e67-b94e-4394-a99d-2863055ce1a8",
   "metadata": {},
   "outputs": [
    {
     "data": {
      "text/plain": [
       "True"
      ]
     },
     "execution_count": 78,
     "metadata": {},
     "output_type": "execute_result"
    }
   ],
   "source": [
    "palindromeImperative([1,2,1])"
   ]
  },
  {
   "cell_type": "code",
   "execution_count": null,
   "id": "05a62469-6e53-4d60-96a3-0a9bef407d83",
   "metadata": {},
   "outputs": [],
   "source": []
  }
 ],
 "metadata": {
  "kernelspec": {
   "display_name": "Python 3 (ipykernel)",
   "language": "python",
   "name": "python3"
  },
  "language_info": {
   "codemirror_mode": {
    "name": "ipython",
    "version": 3
   },
   "file_extension": ".py",
   "mimetype": "text/x-python",
   "name": "python",
   "nbconvert_exporter": "python",
   "pygments_lexer": "ipython3",
   "version": "3.9.2"
  }
 },
 "nbformat": 4,
 "nbformat_minor": 5
}
