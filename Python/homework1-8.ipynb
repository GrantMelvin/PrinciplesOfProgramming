{
 "cells": [
  {
   "cell_type": "code",
   "execution_count": 8,
   "id": "2d793ff2-0fda-4df1-903b-b2452e3b1397",
   "metadata": {},
   "outputs": [],
   "source": [
    "def palindromeImperative(lst):\n",
    "    for i in range(0, len(lst)//2):\n",
    "        if lst[i] != lst[len(lst) - i - 1]:\n",
    "            return False\n",
    "    return True"
   ]
  },
  {
   "cell_type": "code",
   "execution_count": 10,
   "id": "438f5e67-b94e-4394-a99d-2863055ce1a8",
   "metadata": {},
   "outputs": [
    {
     "data": {
      "text/plain": [
       "False"
      ]
     },
     "execution_count": 10,
     "metadata": {},
     "output_type": "execute_result"
    }
   ],
   "source": [
    "palindromeImperative([1,2,2])"
   ]
  },
  {
   "cell_type": "code",
   "execution_count": null,
   "id": "05a62469-6e53-4d60-96a3-0a9bef407d83",
   "metadata": {},
   "outputs": [],
   "source": []
  }
 ],
 "metadata": {
  "kernelspec": {
   "display_name": "Python 3 (ipykernel)",
   "language": "python",
   "name": "python3"
  },
  "language_info": {
   "codemirror_mode": {
    "name": "ipython",
    "version": 3
   },
   "file_extension": ".py",
   "mimetype": "text/x-python",
   "name": "python",
   "nbconvert_exporter": "python",
   "pygments_lexer": "ipython3",
   "version": "3.10.11"
  }
 },
 "nbformat": 4,
 "nbformat_minor": 5
}
