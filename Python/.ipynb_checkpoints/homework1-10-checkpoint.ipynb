{
 "cells": [
  {
   "cell_type": "code",
   "execution_count": 1,
   "id": "e7fbae84-b806-409c-8040-f098bc35bf3c",
   "metadata": {},
   "outputs": [],
   "source": [
    "def inRangeComprehension(start,end,window):\n",
    "    return [x for x in window if x >= start and x <=end]"
   ]
  },
  {
   "cell_type": "code",
   "execution_count": 2,
   "id": "10aeb551-32ee-424a-b1fb-30c5588e05f9",
   "metadata": {},
   "outputs": [
    {
     "data": {
      "text/plain": [
       "[5, 6, 7, 8, 9, 10]"
      ]
     },
     "execution_count": 2,
     "metadata": {},
     "output_type": "execute_result"
    }
   ],
   "source": [
    "inRangeComprehension(5, 10, range(1, 15))"
   ]
  },
  {
   "cell_type": "code",
   "execution_count": null,
   "id": "673db3d2-08e6-48fc-b43b-8a0fb82b4879",
   "metadata": {},
   "outputs": [],
   "source": []
  }
 ],
 "metadata": {
  "kernelspec": {
   "display_name": "Python 3 (ipykernel)",
   "language": "python",
   "name": "python3"
  },
  "language_info": {
   "codemirror_mode": {
    "name": "ipython",
    "version": 3
   },
   "file_extension": ".py",
   "mimetype": "text/x-python",
   "name": "python",
   "nbconvert_exporter": "python",
   "pygments_lexer": "ipython3",
   "version": "3.9.2"
  }
 },
 "nbformat": 4,
 "nbformat_minor": 5
}
