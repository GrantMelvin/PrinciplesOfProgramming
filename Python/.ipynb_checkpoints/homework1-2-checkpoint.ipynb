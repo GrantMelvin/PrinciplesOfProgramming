{
 "cells": [
  {
   "cell_type": "code",
   "execution_count": 15,
   "id": "9a787c89-7a04-4d88-9c13-8c73f801122e",
   "metadata": {},
   "outputs": [],
   "source": [
    "def halveEvensRecursive(arr):\n",
    "    if not arr:                                             #Base Case\n",
    "        return []\n",
    "    if(arr[0] % 2 == 0):                                    #Recursive Case\n",
    "        return [arr[0] // 2] + halveEvensRecursive(arr[1:])\n",
    "    return halveEvensRecursive(arr[1:])                     #Recursive Case\n",
    "    "
   ]
  },
  {
   "cell_type": "code",
   "execution_count": 16,
   "id": "47669b59-fd65-416b-ab32-b115da84763d",
   "metadata": {},
   "outputs": [
    {
     "data": {
      "text/plain": [
       "[0.0, 1.0, 4.0, 28.0, 9.0]"
      ]
     },
     "execution_count": 16,
     "metadata": {},
     "output_type": "execute_result"
    }
   ],
   "source": [
    "halveEvensRecursive([0, 2, 1, 7, 8, 56, 17, 18]) # Test Case"
   ]
  },
  {
   "cell_type": "code",
   "execution_count": null,
   "id": "641a7a62-e6ee-43c8-8358-8097e58c504b",
   "metadata": {},
   "outputs": [],
   "source": []
  },
  {
   "cell_type": "code",
   "execution_count": null,
   "id": "36fd7ba9-53aa-4c2b-9023-e57e54e56bec",
   "metadata": {},
   "outputs": [],
   "source": []
  }
 ],
 "metadata": {
  "kernelspec": {
   "display_name": "Python 3 (ipykernel)",
   "language": "python",
   "name": "python3"
  },
  "language_info": {
   "codemirror_mode": {
    "name": "ipython",
    "version": 3
   },
   "file_extension": ".py",
   "mimetype": "text/x-python",
   "name": "python",
   "nbconvert_exporter": "python",
   "pygments_lexer": "ipython3",
   "version": "3.9.2"
  }
 },
 "nbformat": 4,
 "nbformat_minor": 5
}
