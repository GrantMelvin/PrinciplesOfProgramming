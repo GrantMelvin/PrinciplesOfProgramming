{
 "cells": [
  {
   "cell_type": "code",
   "execution_count": 5,
   "id": "930cda74-7370-4d61-bdf5-907fe6b12fb1",
   "metadata": {},
   "outputs": [],
   "source": [
    "def halveEvensImperative(lst):              \n",
    "    reslst = []\n",
    "    for x in lst:\n",
    "        if(x % 2 == 0):\n",
    "            reslst.append(x//2)\n",
    "    return reslst"
   ]
  },
  {
   "cell_type": "code",
   "execution_count": 6,
   "id": "eac966dc-a355-4d3a-8c29-fb38d9abbd58",
   "metadata": {},
   "outputs": [
    {
     "data": {
      "text/plain": [
       "[0, 2, 8, 56, 18]"
      ]
     },
     "execution_count": 6,
     "metadata": {},
     "output_type": "execute_result"
    }
   ],
   "source": [
    "halveEvensImperative([0, 2, 1, 7, 8, 56, 17, 18]) # Test Case"
   ]
  },
  {
   "cell_type": "code",
   "execution_count": null,
   "id": "6bc3930c-bb57-4033-8f31-a61e6991631e",
   "metadata": {},
   "outputs": [],
   "source": []
  }
 ],
 "metadata": {
  "kernelspec": {
   "display_name": "Python 3 (ipykernel)",
   "language": "python",
   "name": "python3"
  },
  "language_info": {
   "codemirror_mode": {
    "name": "ipython",
    "version": 3
   },
   "file_extension": ".py",
   "mimetype": "text/x-python",
   "name": "python",
   "nbconvert_exporter": "python",
   "pygments_lexer": "ipython3",
   "version": "3.10.11"
  }
 },
 "nbformat": 4,
 "nbformat_minor": 5
}
