{
 "cells": [
  {
   "cell_type": "code",
   "execution_count": 8,
   "id": "930cda74-7370-4d61-bdf5-907fe6b12fb1",
   "metadata": {},
   "outputs": [],
   "source": [
    "def halveEvensImperative(arr):              \n",
    "    return([x // 2 for x in arr if x % 2 == 0]) "
   ]
  },
  {
   "cell_type": "code",
   "execution_count": 9,
   "id": "eac966dc-a355-4d3a-8c29-fb38d9abbd58",
   "metadata": {},
   "outputs": [
    {
     "data": {
      "text/plain": [
       "[0, 1, 4, 28, 9]"
      ]
     },
     "execution_count": 9,
     "metadata": {},
     "output_type": "execute_result"
    }
   ],
   "source": [
    "halveEvensImperative([0, 2, 1, 7, 8, 56, 17, 18]) # Test Case"
   ]
  },
  {
   "cell_type": "code",
   "execution_count": null,
   "id": "6bc3930c-bb57-4033-8f31-a61e6991631e",
   "metadata": {},
   "outputs": [],
   "source": []
  }
 ],
 "metadata": {
  "kernelspec": {
   "display_name": "Python 3 (ipykernel)",
   "language": "python",
   "name": "python3"
  },
  "language_info": {
   "codemirror_mode": {
    "name": "ipython",
    "version": 3
   },
   "file_extension": ".py",
   "mimetype": "text/x-python",
   "name": "python",
   "nbconvert_exporter": "python",
   "pygments_lexer": "ipython3",
   "version": "3.9.2"
  }
 },
 "nbformat": 4,
 "nbformat_minor": 5
}
