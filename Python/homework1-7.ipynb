{
 "cells": [
  {
   "cell_type": "code",
   "execution_count": 1,
   "id": "7ac75b17-dbda-4b3c-b8a6-67bff517dd9f",
   "metadata": {},
   "outputs": [],
   "source": [
    "def sumRecursive(lst):\n",
    "    if not lst: return 0\n",
    "    return lst[0] + sumRecursive(lst[1:])"
   ]
  },
  {
   "cell_type": "code",
   "execution_count": 3,
   "id": "d45f6887-47a6-44c7-ab5a-f58c938bce6b",
   "metadata": {},
   "outputs": [
    {
     "data": {
      "text/plain": [
       "8.0"
      ]
     },
     "execution_count": 3,
     "metadata": {},
     "output_type": "execute_result"
    }
   ],
   "source": [
    "sumRecursive([6,2.0])"
   ]
  }
 ],
 "metadata": {
  "kernelspec": {
   "display_name": "Python 3 (ipykernel)",
   "language": "python",
   "name": "python3"
  },
  "language_info": {
   "codemirror_mode": {
    "name": "ipython",
    "version": 3
   },
   "file_extension": ".py",
   "mimetype": "text/x-python",
   "name": "python",
   "nbconvert_exporter": "python",
   "pygments_lexer": "ipython3",
   "version": "3.10.11"
  }
 },
 "nbformat": 4,
 "nbformat_minor": 5
}
